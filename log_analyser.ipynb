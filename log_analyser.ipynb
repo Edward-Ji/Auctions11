{
 "cells": [
  {
   "cell_type": "code",
   "execution_count": 1,
   "metadata": {},
   "outputs": [],
   "source": [
    "from pprint import pprint\n",
    "import requests\n",
    "import math\n",
    "import numpy as np\n",
    "import matplotlib.pyplot as plt"
   ]
  },
  {
   "cell_type": "code",
   "execution_count": 2,
   "metadata": {},
   "outputs": [],
   "source": [
    "def pnorm(x):\n",
    "    q = math.erf(x / math.sqrt(2.0))\n",
    "    return (1.0 + q) / 2.0"
   ]
  },
  {
   "cell_type": "code",
   "execution_count": 3,
   "metadata": {},
   "outputs": [],
   "source": [
    "api_url = \"http://auctions11.usydrobotics.club/api/fullLogs/\"\n",
    "\n",
    "log_names = eval(requests.request(\"GET\", api_url + \"stat\").content)\n",
    "\n",
    "logs = []\n",
    "\n",
    "for i, name in enumerate(sorted(log_names, key=lambda s: s[:-4].split('_')[-1])[-500:]):\n",
    "    log = requests.request(\"GET\", api_url + name).content.strip()\n",
    "    log = iter([comp for comp in log.split(b'/') if comp])\n",
    "    teams = eval(next(log))\n",
    "    bots, tv_mean, tv_std = next(log).split(b'|')\n",
    "    bots = bots.split(b',')\n",
    "    tv_mean, tv_std = int(tv_mean), int(tv_std)\n",
    "    \n",
    "    game = {\n",
    "        \"name\": name,\n",
    "        \"teams\": teams,\n",
    "        \"bots\": bots,\n",
    "        \"tv_mean\": tv_mean,\n",
    "        \"tv_std\": tv_std,\n",
    "        \"auctions\": []\n",
    "    }\n",
    "    for chunks in log:\n",
    "        auction = {\n",
    "            \"tv\": 0,\n",
    "            \"know\": [],\n",
    "            \"bids\": []\n",
    "        }\n",
    "\n",
    "        for chunk in chunks.split(b'|'):\n",
    "            if chunk.startswith(b't:'):\n",
    "                auction[\"tv\"] = int(chunk.split(b':')[1])\n",
    "            elif chunk.startswith(b'k:'):\n",
    "                auction[\"know\"].append(int(chunk.split(b':')[1]))\n",
    "            elif chunk.startswith(b'r:'):\n",
    "                pass\n",
    "            elif chunk.startswith(b's:'):\n",
    "                pass\n",
    "            elif chunk.startswith(b'R:'):\n",
    "                pass\n",
    "            elif chunk.startswith(b'S:'):\n",
    "                pass\n",
    "            elif chunk.startswith(b'B:'):\n",
    "                pass\n",
    "            else:\n",
    "                auction[\"bids\"].append(tuple(map(int, chunk.split(b':'))))\n",
    "        game[\"auctions\"].append(auction)\n",
    "    \n",
    "    logs.append(game)"
   ]
  },
  {
   "cell_type": "code",
   "execution_count": 4,
   "metadata": {},
   "outputs": [
    {
     "name": "stdout",
     "output_type": "stream",
     "text": [
      "-0.008954681134220037\n"
     ]
    },
    {
     "data": {
      "text/plain": "<Figure size 432x288 with 1 Axes>",
      "image/png": "[encoded data removed]"
     },
     "metadata": {
      "needs_background": "light"
     },
     "output_type": "display_data"
    }
   ],
   "source": [
    "z_scores = []\n",
    "for game in logs:\n",
    "    for auction in game[\"auctions\"]:\n",
    "        z_scores.append((auction[\"tv\"] - game[\"tv_mean\"]) / game[\"tv_std\"])\n",
    "\n",
    "print(np.mean(z_scores))\n",
    "plt.hist(z_scores)\n",
    "plt.show()"
   ]
  },
  {
   "cell_type": "code",
   "execution_count": 56,
   "metadata": {},
   "outputs": [
    {
     "name": "stdout",
     "output_type": "stream",
     "text": [
      "14915\n",
      "211665\n"
     ]
    },
    {
     "data": {
      "text/plain": "<Figure size 432x288 with 2 Axes>",
      "image/png": "[encoded data removed]"
     },
     "metadata": {
      "needs_background": "light"
     },
     "output_type": "display_data"
    }
   ],
   "source": [
    "stage_prob = {\n",
    "    \"low\": 0.64,\n",
    "    \"mid\": 0.16,\n",
    "    \"high\": 0.04\n",
    "}\n",
    "\n",
    "def get_stage(value, mean):\n",
    "    if value > mean * 3 / 4:\n",
    "        return \"high\"\n",
    "    elif value > mean / 4:\n",
    "        return \"mid\"\n",
    "    else:\n",
    "        return \"low\"\n",
    "\n",
    "npc_p_values = []\n",
    "player_p_values = []\n",
    "\n",
    "for game_index, game in enumerate(logs):\n",
    "    \n",
    "    tv_mean = game[\"tv_mean\"]\n",
    "\n",
    "    stage_bid_counts = {\n",
    "        \"low\": [0 for _ in range(10)],\n",
    "        \"mid\": [0 for _ in range(10)],\n",
    "        \"high\": [0 for _ in range(10)]\n",
    "    }\n",
    "    stage_round_counts = {\n",
    "        \"low\": 0,\n",
    "        \"mid\": 0,\n",
    "        \"high\": 0\n",
    "    }\n",
    "    \n",
    "    for auction in game[\"auctions\"]:\n",
    "        last_bid_index = 0\n",
    "        last_bid = 1\n",
    "        for who, bid in auction[\"bids\"]:\n",
    "            stage_bid_counts[get_stage(bid, tv_mean)][who] += 1\n",
    "            if last_bid_index > who:\n",
    "                stage_round_counts[get_stage(bid, tv_mean)] += 1\n",
    "            last_bid = bid\n",
    "            last_bid_index = who\n",
    "    \n",
    "        for i in range(10):\n",
    "            p_values = []\n",
    "            for stage, prob in stage_prob.items():\n",
    "                if stage_round_counts[stage] == 0:\n",
    "                    continue\n",
    "                x = stage_bid_counts[stage][i] / stage_round_counts[stage]\n",
    "                mean = prob\n",
    "                sd = math.sqrt(prob * (1 - prob) / stage_round_counts[stage])\n",
    "                test_stat = (x - mean) / sd\n",
    "                p_values.append(2 * pnorm(-abs(test_stat)))\n",
    "            judge = any(map(lambda p: p < 0.00095, p_values))\n",
    "            if not p_values:\n",
    "                continue\n",
    "            if game[\"bots\"][i] == b\"NPC\":\n",
    "                npc_p_values.append(int(judge))\n",
    "            elif game[\"bots\"][i] != b\"CHRISTIE\":\n",
    "                player_p_values.append(int(judge))\n",
    "\n",
    "print(player_p_values.count(True))\n",
    "print(npc_p_values.count(True) * -90\n",
    "      + player_p_values.count(True) * 15)\n",
    "\n",
    "fig, (ax1, ax2) = plt.subplots(1, 2)\n",
    "ax1.hist(npc_p_values)\n",
    "ax2.hist(player_p_values)\n",
    "plt.show()"
   ]
  },
  {
   "cell_type": "code",
   "execution_count": 61,
   "outputs": [
    {
     "name": "stdout",
     "output_type": "stream",
     "text": [
      "14325\n",
      "196875\n"
     ]
    },
    {
     "data": {
      "text/plain": "<Figure size 432x288 with 2 Axes>",
      "image/png": "[encoded data removed]"
     },
     "metadata": {
      "needs_background": "light"
     },
     "output_type": "display_data"
    }
   ],
   "source": [
    "stage_prob = {\n",
    "    \"low\": 0.64,\n",
    "    \"mid\": 0.16,\n",
    "    \"high\": 0.04\n",
    "}\n",
    "\n",
    "def get_stage(value, mean):\n",
    "    if value > mean * 3 / 4:\n",
    "        return \"high\"\n",
    "    elif value > mean / 4:\n",
    "        return \"mid\"\n",
    "    else:\n",
    "        return \"low\"\n",
    "\n",
    "npc_p_values = []\n",
    "player_p_values = []\n",
    "\n",
    "for game_index, game in enumerate(logs):\n",
    "\n",
    "    tv_mean = game[\"tv_mean\"]\n",
    "\n",
    "    stage_bid_counts = {\n",
    "        \"low\": [0 for _ in range(10)],\n",
    "        \"mid\": [0 for _ in range(10)],\n",
    "        \"high\": [0 for _ in range(10)]\n",
    "    }\n",
    "    stage_round_counts = {\n",
    "        \"low\": 0,\n",
    "        \"mid\": 0,\n",
    "        \"high\": 0\n",
    "    }\n",
    "\n",
    "    for auction in game[\"auctions\"]:\n",
    "        last_bid_index = 0\n",
    "        last_bid = 1\n",
    "        for who, bid in auction[\"bids\"]:\n",
    "            stage_bid_counts[get_stage(bid, tv_mean)][who] += 1\n",
    "            if last_bid_index > who:\n",
    "                stage_round_counts[get_stage(bid, tv_mean)] += 1\n",
    "            last_bid = bid\n",
    "            last_bid_index = who\n",
    "\n",
    "        for i in range(10):\n",
    "            test_stat_sum = 0\n",
    "            k = 0\n",
    "            for stage, prob in stage_prob.items():\n",
    "                if stage_round_counts[stage] == 0:\n",
    "                    continue\n",
    "                x = stage_bid_counts[stage][i] / stage_round_counts[stage]\n",
    "                mean = prob\n",
    "                sd = math.sqrt(prob * (1 - prob) / stage_round_counts[stage])\n",
    "                test_stat = (x - mean) / sd\n",
    "                test_stat_sum += test_stat\n",
    "                k += 1\n",
    "            if k != 0:\n",
    "                p_value = 2 * pnorm(-abs(test_stat_sum / math.sqrt(k)))\n",
    "                judge = p_value < 0.0095\n",
    "                if game[\"bots\"][i] == b\"NPC\":\n",
    "                    npc_p_values.append(int(judge))\n",
    "                elif game[\"bots\"][i] != b\"CHRISTIE\":\n",
    "                    player_p_values.append(int(judge))\n",
    "\n",
    "print(player_p_values.count(True))\n",
    "print(npc_p_values.count(True) * -90\n",
    "      + player_p_values.count(True) * 15)\n",
    "\n",
    "fig, (ax1, ax2) = plt.subplots(1, 2)\n",
    "ax1.hist(npc_p_values)\n",
    "ax2.hist(player_p_values)\n",
    "plt.show()"
   ],
   "metadata": {
    "collapsed": false,
    "pycharm": {
     "name": "#%%\n"
    }
   }
  },
  {
   "cell_type": "code",
   "execution_count": null,
   "outputs": [],
   "source": [
    "stage_prob = {\n",
    "    \"low\": 0.64,\n",
    "    \"mid\": 0.16,\n",
    "    \"high\": 0.04\n",
    "}\n",
    "\n",
    "def get_stage(value, mean):\n",
    "    if value > mean * 3 / 4:\n",
    "        return \"high\"\n",
    "    elif value > mean / 4:\n",
    "        return \"mid\"\n",
    "    else:\n",
    "        return \"low\"\n",
    "\n",
    "npc_p_values = []\n",
    "player_p_values = []\n",
    "\n",
    "for game_index, game in enumerate(logs):\n",
    "\n",
    "    tv_mean = game[\"tv_mean\"]\n",
    "\n",
    "    stage_bid_counts = {\n",
    "        \"low\": [0 for _ in range(10)],\n",
    "        \"mid\": [0 for _ in range(10)],\n",
    "        \"high\": [0 for _ in range(10)]\n",
    "    }\n",
    "    stage_round_counts = {\n",
    "        \"low\": 0,\n",
    "        \"mid\": 0,\n",
    "        \"high\": 0\n",
    "    }\n",
    "\n",
    "    for auction in game[\"auctions\"]:\n",
    "        last_bid_index = 0\n",
    "        last_bid = 1\n",
    "        for who, bid in auction[\"bids\"]:\n",
    "            stage_bid_counts[get_stage(bid, tv_mean)][who] += 1\n",
    "            if last_bid_index > who:\n",
    "                stage_round_counts[get_stage(bid, tv_mean)] += 1\n",
    "            last_bid = bid\n",
    "            last_bid_index = who\n",
    "\n",
    "        for i in range(10):\n",
    "            p_values = []\n",
    "            for stage, prob in stage_prob.items():\n",
    "                if stage_round_counts[stage] == 0:\n",
    "                    continue\n",
    "                x = stage_bid_counts[stage][i] / stage_round_counts[stage]\n",
    "                mean = prob\n",
    "                sd = math.sqrt(prob * (1 - prob) / stage_round_counts[stage])\n",
    "                test_stat = (x - mean) / sd\n",
    "                p_values.append(2 * pnorm(-abs(test_stat)))\n",
    "            judge = any(map(lambda p: p < 0.00095, p_values))\n",
    "            if not p_values:\n",
    "                continue\n",
    "            if game[\"bots\"][i] == b\"NPC\":\n",
    "                npc_p_values.append(int(judge))\n",
    "            elif game[\"bots\"][i] != b\"CHRISTIE\":\n",
    "                player_p_values.append(int(judge))\n",
    "\n",
    "print(player_p_values.count(True))\n",
    "print(npc_p_values.count(True) * -90\n",
    "      + player_p_values.count(True) * 15)\n",
    "\n",
    "fig, (ax1, ax2) = plt.subplots(1, 2)\n",
    "ax1.hist(npc_p_values)\n",
    "ax2.hist(player_p_values)\n",
    "plt.show()"
   ],
   "metadata": {
    "collapsed": false,
    "pycharm": {
     "name": "#%%\n"
    }
   }
  }
 ],
 "metadata": {
  "kernelspec": {
   "display_name": "Python 3",
   "language": "python",
   "name": "python3"
  },
  "language_info": {
   "codemirror_mode": {
    "name": "ipython",
    "version": 3
   },
   "file_extension": ".py",
   "mimetype": "text/x-python",
   "name": "python",
   "nbconvert_exporter": "python",
   "pygments_lexer": "ipython3",
   "version": "3.9.5"
  }
 },
 "nbformat": 4,
 "nbformat_minor": 4
}