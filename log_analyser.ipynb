{
 "cells": [
  {
   "cell_type": "code",
   "execution_count": 224,
   "metadata": {},
   "outputs": [],
   "source": [
    "import requests\n",
    "import math\n",
    "import numpy as np\n",
    "import matplotlib as mpl\n",
    "import matplotlib.pyplot as plt\n",
    "\n",
    "mpl.use('macosx')"
   ]
  },
  {
   "cell_type": "code",
   "execution_count": 2,
   "outputs": [],
   "source": [
    "def std(array):\n",
    "    n = len(array)\n",
    "    mean = sum(array) / n\n",
    "    return math.sqrt(sum(map(lambda x: math.pow(x - mean, 2), array)) / n)\n",
    "\n",
    "def pnorm(x):\n",
    "    q = math.erf(x / math.sqrt(2.0))\n",
    "    return (1.0 + q) / 2.0"
   ],
   "metadata": {
    "collapsed": false,
    "pycharm": {
     "name": "#%%\n"
    }
   }
  },
  {
   "cell_type": "code",
   "execution_count": 382,
   "metadata": {},
   "outputs": [],
   "source": [
    "api_url = \"http://auctions11.usydrobotics.club/api/fullLogs/\"\n",
    "\n",
    "log_names = eval(requests.request(\"GET\", api_url + \"stat\").content)\n",
    "\n",
    "logs = []\n",
    "\n",
    "for i, name in enumerate(sorted(log_names, key=lambda s: s[:-4].split('_')[-1])[-1000:]):\n",
    "    log = requests.request(\"GET\", api_url + name).content.strip()\n",
    "    log = iter([comp for comp in log.split(b'/') if comp])\n",
    "    teams = eval(next(log))\n",
    "    bots, tv_mean, tv_std, phase = next(log).split(b'|')\n",
    "    bots = bots.split(b',')\n",
    "    tv_mean, tv_std = int(tv_mean), int(tv_std)\n",
    "    \n",
    "    game = {\n",
    "        \"name\": name,\n",
    "        \"teams\": teams,\n",
    "        \"bots\": bots,\n",
    "        \"tv_mean\": tv_mean,\n",
    "        \"tv_std\": tv_std,\n",
    "        \"phase\": phase,\n",
    "        \"auctions\": []\n",
    "    }\n",
    "    for chunks in log:\n",
    "        auction = {\n",
    "            \"tv\": 0,\n",
    "            \"know\": [],\n",
    "            \"bids\": []\n",
    "        }\n",
    "\n",
    "        for chunk in chunks.split(b'|'):\n",
    "            if chunk.startswith(b't:'):\n",
    "                auction[\"tv\"] = int(chunk.split(b':')[1])\n",
    "            elif chunk.startswith(b'k:'):\n",
    "                auction[\"know\"].append(int(chunk.split(b':')[1]))\n",
    "            elif chunk.startswith(b'r:'):\n",
    "                pass\n",
    "            elif chunk.startswith(b's:'):\n",
    "                pass\n",
    "            elif chunk.startswith(b'R:'):\n",
    "                pass\n",
    "            elif chunk.startswith(b'S:'):\n",
    "                pass\n",
    "            elif chunk.startswith(b'B:'):\n",
    "                pass\n",
    "            elif chunk.startswith(b'T:'):\n",
    "                pass\n",
    "            else:\n",
    "                auction[\"bids\"].append(tuple(map(int, chunk.split(b':'))))\n",
    "        game[\"auctions\"].append(auction)\n",
    "    \n",
    "    logs.append(game)"
   ]
  },
  {
   "cell_type": "code",
   "execution_count": 8,
   "metadata": {},
   "outputs": [
    {
     "name": "stdout",
     "output_type": "stream",
     "text": [
      "0.003662958601422126\n"
     ]
    },
    {
     "data": {
      "text/plain": "<Figure size 432x288 with 1 Axes>",
      "image/png": "[encoded data removed]"
     },
     "metadata": {
      "needs_background": "light"
     },
     "output_type": "display_data"
    }
   ],
   "source": [
    "z_scores = []\n",
    "for game in logs:\n",
    "    for auction in game[\"auctions\"]:\n",
    "        z_scores.append((auction[\"tv\"] - game[\"tv_mean\"]) / game[\"tv_std\"])\n",
    "\n",
    "print(np.mean(z_scores))\n",
    "plt.hist(z_scores)\n",
    "plt.show()"
   ]
  },
  {
   "cell_type": "code",
   "execution_count": 395,
   "outputs": [
    {
     "name": "stdout",
     "output_type": "stream",
     "text": [
      "472\n",
      "3275.0\n",
      "32.0\n",
      "97.97669491525424\n"
     ]
    },
    {
     "data": {
      "text/plain": "<Figure size 432x288 with 2 Axes>",
      "image/png": "[encoded data removed]"
     },
     "metadata": {
      "needs_background": "light"
     },
     "output_type": "display_data"
    }
   ],
   "source": [
    "stage_prob = {\n",
    "    \"low\": 0.64,\n",
    "    \"mid\": 0.16,\n",
    "    \"high\": 0.04\n",
    "}\n",
    "\n",
    "def get_stage(value, mean):\n",
    "    if value > mean * 3 / 4:\n",
    "        return \"high\"\n",
    "    elif value > mean / 4:\n",
    "        return \"mid\"\n",
    "    else:\n",
    "        return \"low\"\n",
    "\n",
    "npc_p_values = []\n",
    "player_p_values = []\n",
    "no_of_bids = []\n",
    "\n",
    "game_count = 0\n",
    "for game_index, game in enumerate(logs):\n",
    "    if game[\"phase\"] != b\"phase_1\":\n",
    "        continue\n",
    "\n",
    "    tv_mean = game[\"tv_mean\"]\n",
    "\n",
    "    counts = {\"low\": 0, \"mid\": 0, \"high\": 0}\n",
    "    bid_counts = [counts.copy() for _ in range(12)]\n",
    "    round_counts = [counts.copy() for _ in range(12)]\n",
    "    inc_sums = [0 for _ in range(12)]\n",
    "\n",
    "    for auction in game[\"auctions\"]:\n",
    "        last_bid_index = 0\n",
    "        last_bid = 1\n",
    "        for who, bid in auction[\"bids\"]:\n",
    "            stage = get_stage(last_bid, tv_mean)\n",
    "            bid_counts[who][stage] += 1\n",
    "            while last_bid_index != who:\n",
    "                last_bid_index += 1\n",
    "                if last_bid_index == 12:\n",
    "                    last_bid_index = 0\n",
    "                round_counts[last_bid_index][stage] += 1\n",
    "            inc_sums[who] += bid - last_bid - 8\n",
    "            last_bid = bid\n",
    "\n",
    "    # if \"CHRISTIE\" not in game[\"teams\"]:\n",
    "    #     continue\n",
    "\n",
    "    game_count += 1\n",
    "\n",
    "    for i in range(12):\n",
    "        # perform hypothesis testing on bidding probability\n",
    "        test_stats = []  # store test statistic and weight (w = 1/sd)\n",
    "        for stage, prob in stage_prob.items():\n",
    "            if round_counts[i][stage] == 0:\n",
    "                continue\n",
    "            x = bid_counts[i][stage] / round_counts[i][stage]\n",
    "            sd = math.sqrt(prob * (1 - prob) / round_counts[i][stage])\n",
    "            test_stats.append(((x - prob) / sd, 1 / sd))\n",
    "        # preform additional testing on bidding increment in phase 2 games\n",
    "        if game[\"phase\"] == b\"phase_2\" and sum(bid_counts[i].values()) != 0:\n",
    "            x = inc_sums[i] / sum(bid_counts[i].values()) / 8\n",
    "            sd = 7  # / math.sqrt(sum(bid_counts[i].values()))\n",
    "            test_stats.append((x / sd, 1 / sd))\n",
    "        # merge z-scores using weighted method\n",
    "        if not test_stats:\n",
    "            continue\n",
    "        final_test_stat = sum(map(lambda ts: ts[0] * ts[1], test_stats)) / \\\n",
    "                          math.sqrt(sum(map(lambda ts: ts[1] ** 2, test_stats)))\n",
    "        # obtain p-value with normal distribution probability function\n",
    "        p_value = 2 * pnorm(-abs(final_test_stat))\n",
    "        judge = p_value < 9e-3\n",
    "        if game[\"bots\"][i] == b\"NPC\":\n",
    "            npc_p_values.append(float(judge))\n",
    "        elif game[\"bots\"][i] != b\"CHRISTIE\":\n",
    "            player_p_values.append(float(judge))\n",
    "\n",
    "print(game_count)\n",
    "print(sum(player_p_values))\n",
    "print(sum(npc_p_values))\n",
    "print((sum(npc_p_values) * -90\n",
    "      + sum(player_p_values) * 15) / game_count)\n",
    "\n",
    "fig, (ax1, ax2) = plt.subplots(1, 2)\n",
    "ax1.hist(npc_p_values, bins=100)\n",
    "ax2.hist(player_p_values, bins=100)\n",
    "plt.show()"
   ],
   "metadata": {
    "collapsed": false,
    "pycharm": {
     "name": "#%%\n"
    }
   }
  },
  {
   "cell_type": "code",
   "execution_count": 228,
   "outputs": [
    {
     "data": {
      "text/plain": "<Figure size 432x288 with 2 Axes>",
      "image/png": "[encoded data removed]"
     },
     "metadata": {
      "needs_background": "light"
     },
     "output_type": "display_data"
    }
   ],
   "source": [
    "# true value\n",
    "stage_prob = {\n",
    "    \"low\": 0.64,\n",
    "    \"mid\": 0.16,\n",
    "    \"high\": 0.04\n",
    "}\n",
    "\n",
    "def get_stage(value, mean):\n",
    "    if value > mean * 3 / 4:\n",
    "        return \"high\"\n",
    "    elif value > mean / 4:\n",
    "        return \"mid\"\n",
    "    else:\n",
    "        return \"low\"\n",
    "\n",
    "know_values = []\n",
    "unknow_values = []\n",
    "\n",
    "found = []\n",
    "total = 0\n",
    "\n",
    "game_count = 0\n",
    "for game_index, game in enumerate(logs):\n",
    "    if game[\"phase\"] != b\"phase_2\":\n",
    "        continue\n",
    "\n",
    "    tv_mean = game[\"tv_mean\"]\n",
    "\n",
    "    counts = {\"low\": 1, \"mid\": 1, \"high\": 1}\n",
    "    bid_counts = [counts.copy() for _ in range(12)]\n",
    "    round_counts = [counts.copy() for _ in range(12)]\n",
    "    last_bids = [0 for _ in range(12)]\n",
    "    inc_sums = [[] for _ in range(12)]\n",
    "\n",
    "    for auction in game[\"auctions\"]:\n",
    "        last_bid_index = 0\n",
    "        last_bid = 1\n",
    "        for who, bid in auction[\"bids\"]:\n",
    "            stage = get_stage(last_bid, tv_mean)\n",
    "            bid_counts[who][stage] += 1\n",
    "            last_bids[who] = bid\n",
    "            while last_bid_index != who:\n",
    "                last_bid_index += 1\n",
    "                if last_bid_index == 12:\n",
    "                    last_bid_index = 0\n",
    "                round_counts[last_bid_index][stage] += 1\n",
    "            inc_sums[who].append(bid)\n",
    "            last_bid = bid\n",
    "\n",
    "        if \"CHRISTIE\" not in game[\"teams\"]:\n",
    "            continue\n",
    "\n",
    "        # threshold = 58 if game[\"phase\"] == b\"phase_1\" else 8\n",
    "        # stops = [abs(auction[\"tv\"] - bid - threshold) for bid in last_bids]\n",
    "        # known_bot = sorted(range(12), key=lambda i: stops[i])[:3]\n",
    "\n",
    "        # found.append(sum(bot in auction[\"know\"] for bot in known_bot))\n",
    "        game_count += 1\n",
    "\n",
    "        for i in range(12):\n",
    "            x = last_bids[i] - auction[\"tv\"]\n",
    "            if abs(x) > 200:\n",
    "                continue\n",
    "\n",
    "            if game[\"bots\"][i] != b\"NPC\":\n",
    "                if i in auction[\"know\"]:\n",
    "                    know_values.append(x)\n",
    "                else:\n",
    "                    unknow_values.append(x)\n",
    "\n",
    "# print(np.mean(found))\n",
    "#\n",
    "# plt.hist(found)\n",
    "\n",
    "fig, (ax1, ax2) = plt.subplots(1, 2)\n",
    "ax1.hist(know_values, bins=50)\n",
    "ax2.hist(unknow_values, bins=50)\n",
    "plt.show()"
   ],
   "metadata": {
    "collapsed": false,
    "pycharm": {
     "name": "#%%\n"
    }
   }
  },
  {
   "cell_type": "code",
   "execution_count": 332,
   "outputs": [
    {
     "name": "stdout",
     "output_type": "stream",
     "text": [
      "174\n",
      "190\n",
      "53\n",
      "-11.03448275862069\n"
     ]
    },
    {
     "data": {
      "text/plain": "<Figure size 432x288 with 2 Axes>",
      "image/png": "[encoded data removed]"
     },
     "metadata": {
      "needs_background": "light"
     },
     "output_type": "display_data"
    }
   ],
   "source": [
    "stage_prob = {\n",
    "    \"low\": 0.64,\n",
    "    \"mid\": 0.16,\n",
    "    \"high\": 0.04\n",
    "}\n",
    "\n",
    "def get_stage(value, mean):\n",
    "    if value > mean * 3 / 4:\n",
    "        return \"high\"\n",
    "    elif value > mean / 4:\n",
    "        return \"mid\"\n",
    "    else:\n",
    "        return \"low\"\n",
    "\n",
    "npc_p_values = []\n",
    "player_p_values = []\n",
    "\n",
    "game_count = 0\n",
    "for game_index, game in enumerate(logs):\n",
    "    if game[\"phase\"] != b\"phase_2\":\n",
    "        continue\n",
    "\n",
    "    tv_mean = game[\"tv_mean\"]\n",
    "\n",
    "    counts = {\"low\": 0, \"mid\": 0, \"high\": 0}\n",
    "    bid_counts = [counts.copy() for _ in range(12)]\n",
    "    round_counts = [counts.copy() for _ in range(12)]\n",
    "    inc_sums = [0 for _ in range(12)]\n",
    "\n",
    "    for auction in game[\"auctions\"]:\n",
    "        last_bid_index = 0\n",
    "        last_bid = 1\n",
    "        for who, bid in auction[\"bids\"]:\n",
    "            stage = get_stage(last_bid, tv_mean)\n",
    "            bid_counts[who][stage] += 1\n",
    "            while last_bid_index != who:\n",
    "                last_bid_index += 1\n",
    "                if last_bid_index == 12:\n",
    "                    last_bid_index = 0\n",
    "                round_counts[last_bid_index][stage] += 1\n",
    "            inc_sums[who] += bid - last_bid - 8\n",
    "            last_bid = bid\n",
    "\n",
    "    # if \"CHRISTIE\" not in game[\"teams\"]:\n",
    "    #     continue\n",
    "\n",
    "    game_count += 1\n",
    "\n",
    "    for i in range(12):\n",
    "        # perform hypothesis testing on bidding probability\n",
    "        p_values = []  # store test statistic and weight (w = 1/sd)\n",
    "        for stage, prob in stage_prob.items():\n",
    "            if round_counts[i][stage] == 0:\n",
    "                continue\n",
    "            x = bid_counts[i][stage] / round_counts[i][stage]\n",
    "            if x > 1:\n",
    "                x = 1\n",
    "            elif x < 0:\n",
    "                x = 0\n",
    "            sd = math.sqrt(prob * (1 - prob) / round_counts[i][stage])\n",
    "            test_stat = (x - prob) / sd\n",
    "            alpha = (0 - prob) / sd\n",
    "            beta = (1 - prob) / sd\n",
    "            p_values.append((pnorm(test_stat) - pnorm(alpha)) /\n",
    "                            (pnorm(beta) - pnorm(alpha)))\n",
    "        # preform additional testing on bidding increment in phase 2 games\n",
    "        if game[\"phase\"] == b\"phase_2\" and sum(bid_counts[i].values()) != 0:\n",
    "            x = inc_sums[i] / sum(bid_counts[i].values()) / 8\n",
    "            sd = 7 # / math.sqrt(sum(bid_counts[i].values()))\n",
    "            alpha = 0 / sd\n",
    "            beta = 30 / sd\n",
    "            test_stat = x / sd\n",
    "            p_values.append((pnorm(test_stat) - pnorm(alpha)) /\n",
    "                            (pnorm(beta) - pnorm(alpha)))\n",
    "        # merge z-scores using weighted method\n",
    "        if all(map(lambda p: p < 1, p_values)):\n",
    "            p_value = -sum(map(lambda p: math.log(1 - p), p_values))\n",
    "            p_value = int(p_value < 1.5)\n",
    "            if game[\"bots\"][i] == b\"NPC\":\n",
    "                npc_p_values.append(p_value)\n",
    "            elif game[\"bots\"][i] != b\"CHRISTIE\":\n",
    "                player_p_values.append(p_value)\n",
    "\n",
    "print(game_count)\n",
    "print(sum(player_p_values))\n",
    "print(sum(npc_p_values))\n",
    "print((sum(npc_p_values) * -90\n",
    "      + sum(player_p_values) * 15) / game_count)\n",
    "\n",
    "fig, (ax1, ax2) = plt.subplots(1, 2)\n",
    "ax1.hist(npc_p_values, bins=50)\n",
    "ax2.hist(player_p_values, bins=50)\n",
    "plt.show()"
   ],
   "metadata": {
    "collapsed": false,
    "pycharm": {
     "name": "#%%\n"
    }
   }
  }
 ],
 "metadata": {
  "kernelspec": {
   "display_name": "Python 3",
   "language": "python",
   "name": "python3"
  },
  "language_info": {
   "codemirror_mode": {
    "name": "ipython",
    "version": 3
   },
   "file_extension": ".py",
   "mimetype": "text/x-python",
   "name": "python",
   "nbconvert_exporter": "python",
   "pygments_lexer": "ipython3",
   "version": "3.9.5"
  }
 },
 "nbformat": 4,
 "nbformat_minor": 4
}